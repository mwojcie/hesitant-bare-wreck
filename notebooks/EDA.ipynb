{
 "cells": [
  {
   "cell_type": "code",
   "execution_count": 29,
   "metadata": {},
   "outputs": [],
   "source": [
    "import gzip\n",
    "import matplotlib\n",
    "\n",
    "import numpy as np\n",
    "import pandas as pd\n",
    "import seaborn as sns\n",
    "import matplotlib.pyplot as plt\n",
    "\n",
    "%matplotlib inline"
   ]
  },
  {
   "cell_type": "code",
   "execution_count": 30,
   "metadata": {},
   "outputs": [],
   "source": [
    "def get_extracted_dataframe(path: str) -> pd.DataFrame:\n",
    "    with gzip.open(path, \"rb\") as file:\n",
    "        return pd.read_csv(file)"
   ]
  },
  {
   "cell_type": "code",
   "execution_count": 31,
   "metadata": {},
   "outputs": [],
   "source": [
    "order_data = get_extracted_dataframe(\"../data/machine_learning_challenge_order_data.csv.gz\")\n",
    "labeled_data = get_extracted_dataframe(\"../data/machine_learning_challenge_labeled_data.csv.gz\")"
   ]
  },
  {
   "cell_type": "code",
   "execution_count": 32,
   "metadata": {},
   "outputs": [
    {
     "name": "stdout",
     "output_type": "stream",
     "text": [
      "<class 'pandas.core.frame.DataFrame'>\n",
      "Int64Index: 786600 entries, 0 to 786599\n",
      "Data columns (total 14 columns):\n",
      " #   Column                 Non-Null Count   Dtype  \n",
      "---  ------                 --------------   -----  \n",
      " 0   customer_id            786600 non-null  object \n",
      " 1   order_date             786600 non-null  object \n",
      " 2   order_hour             786600 non-null  int64  \n",
      " 3   customer_order_rank    761833 non-null  float64\n",
      " 4   is_failed              786600 non-null  int64  \n",
      " 5   voucher_amount         786600 non-null  float64\n",
      " 6   delivery_fee           786600 non-null  float64\n",
      " 7   amount_paid            786600 non-null  float64\n",
      " 8   restaurant_id          786600 non-null  int64  \n",
      " 9   city_id                786600 non-null  int64  \n",
      " 10  payment_id             786600 non-null  int64  \n",
      " 11  platform_id            786600 non-null  int64  \n",
      " 12  transmission_id        786600 non-null  int64  \n",
      " 13  is_returning_customer  786600 non-null  int64  \n",
      "dtypes: float64(4), int64(8), object(2)\n",
      "memory usage: 90.0+ MB\n"
     ]
    }
   ],
   "source": [
    "order_data_labeled = order_data.merge(labeled_data, on=\"customer_id\")\n",
    "order_data_labeled.info()"
   ]
  },
  {
   "cell_type": "code",
   "execution_count": 33,
   "metadata": {},
   "outputs": [
    {
     "data": {
      "text/html": [
       "<div>\n",
       "<style scoped>\n",
       "    .dataframe tbody tr th:only-of-type {\n",
       "        vertical-align: middle;\n",
       "    }\n",
       "\n",
       "    .dataframe tbody tr th {\n",
       "        vertical-align: top;\n",
       "    }\n",
       "\n",
       "    .dataframe thead th {\n",
       "        text-align: right;\n",
       "    }\n",
       "</style>\n",
       "<table border=\"1\" class=\"dataframe\">\n",
       "  <thead>\n",
       "    <tr style=\"text-align: right;\">\n",
       "      <th></th>\n",
       "      <th>customer_id</th>\n",
       "      <th>order_date</th>\n",
       "      <th>order_hour</th>\n",
       "      <th>customer_order_rank</th>\n",
       "      <th>is_failed</th>\n",
       "      <th>voucher_amount</th>\n",
       "      <th>delivery_fee</th>\n",
       "      <th>amount_paid</th>\n",
       "      <th>restaurant_id</th>\n",
       "      <th>city_id</th>\n",
       "      <th>payment_id</th>\n",
       "      <th>platform_id</th>\n",
       "      <th>transmission_id</th>\n",
       "      <th>is_returning_customer</th>\n",
       "    </tr>\n",
       "  </thead>\n",
       "  <tbody>\n",
       "    <tr>\n",
       "      <th>0</th>\n",
       "      <td>000097eabfd9</td>\n",
       "      <td>2015-06-20</td>\n",
       "      <td>19</td>\n",
       "      <td>1.0</td>\n",
       "      <td>0</td>\n",
       "      <td>0.0</td>\n",
       "      <td>0.000</td>\n",
       "      <td>11.46960</td>\n",
       "      <td>5803498</td>\n",
       "      <td>20326</td>\n",
       "      <td>1779</td>\n",
       "      <td>30231</td>\n",
       "      <td>4356</td>\n",
       "      <td>0</td>\n",
       "    </tr>\n",
       "    <tr>\n",
       "      <th>1</th>\n",
       "      <td>0000e2c6d9be</td>\n",
       "      <td>2016-01-29</td>\n",
       "      <td>20</td>\n",
       "      <td>1.0</td>\n",
       "      <td>0</td>\n",
       "      <td>0.0</td>\n",
       "      <td>0.000</td>\n",
       "      <td>9.55800</td>\n",
       "      <td>239303498</td>\n",
       "      <td>76547</td>\n",
       "      <td>1619</td>\n",
       "      <td>30359</td>\n",
       "      <td>4356</td>\n",
       "      <td>0</td>\n",
       "    </tr>\n",
       "    <tr>\n",
       "      <th>2</th>\n",
       "      <td>000133bb597f</td>\n",
       "      <td>2017-02-26</td>\n",
       "      <td>19</td>\n",
       "      <td>1.0</td>\n",
       "      <td>0</td>\n",
       "      <td>0.0</td>\n",
       "      <td>0.493</td>\n",
       "      <td>5.93658</td>\n",
       "      <td>206463498</td>\n",
       "      <td>33833</td>\n",
       "      <td>1619</td>\n",
       "      <td>30359</td>\n",
       "      <td>4324</td>\n",
       "      <td>1</td>\n",
       "    </tr>\n",
       "    <tr>\n",
       "      <th>3</th>\n",
       "      <td>00018269939b</td>\n",
       "      <td>2017-02-05</td>\n",
       "      <td>17</td>\n",
       "      <td>1.0</td>\n",
       "      <td>0</td>\n",
       "      <td>0.0</td>\n",
       "      <td>0.493</td>\n",
       "      <td>9.82350</td>\n",
       "      <td>36613498</td>\n",
       "      <td>99315</td>\n",
       "      <td>1619</td>\n",
       "      <td>30359</td>\n",
       "      <td>4356</td>\n",
       "      <td>0</td>\n",
       "    </tr>\n",
       "    <tr>\n",
       "      <th>4</th>\n",
       "      <td>0001a00468a6</td>\n",
       "      <td>2015-08-04</td>\n",
       "      <td>19</td>\n",
       "      <td>1.0</td>\n",
       "      <td>0</td>\n",
       "      <td>0.0</td>\n",
       "      <td>0.493</td>\n",
       "      <td>5.15070</td>\n",
       "      <td>225853498</td>\n",
       "      <td>16456</td>\n",
       "      <td>1619</td>\n",
       "      <td>29463</td>\n",
       "      <td>4356</td>\n",
       "      <td>0</td>\n",
       "    </tr>\n",
       "    <tr>\n",
       "      <th>5</th>\n",
       "      <td>0001d9036b5e</td>\n",
       "      <td>2015-08-29</td>\n",
       "      <td>19</td>\n",
       "      <td>1.0</td>\n",
       "      <td>0</td>\n",
       "      <td>0.0</td>\n",
       "      <td>0.000</td>\n",
       "      <td>11.94750</td>\n",
       "      <td>193643498</td>\n",
       "      <td>88276</td>\n",
       "      <td>1619</td>\n",
       "      <td>29463</td>\n",
       "      <td>4356</td>\n",
       "      <td>0</td>\n",
       "    </tr>\n",
       "    <tr>\n",
       "      <th>6</th>\n",
       "      <td>0001d9036b5e</td>\n",
       "      <td>2017-01-04</td>\n",
       "      <td>17</td>\n",
       "      <td>2.0</td>\n",
       "      <td>0</td>\n",
       "      <td>0.0</td>\n",
       "      <td>0.000</td>\n",
       "      <td>11.15100</td>\n",
       "      <td>193643498</td>\n",
       "      <td>88276</td>\n",
       "      <td>1619</td>\n",
       "      <td>29463</td>\n",
       "      <td>4356</td>\n",
       "      <td>0</td>\n",
       "    </tr>\n",
       "    <tr>\n",
       "      <th>7</th>\n",
       "      <td>0001d9036b5e</td>\n",
       "      <td>2017-01-28</td>\n",
       "      <td>16</td>\n",
       "      <td>3.0</td>\n",
       "      <td>0</td>\n",
       "      <td>0.0</td>\n",
       "      <td>0.000</td>\n",
       "      <td>9.71730</td>\n",
       "      <td>193643498</td>\n",
       "      <td>88276</td>\n",
       "      <td>1619</td>\n",
       "      <td>30359</td>\n",
       "      <td>4356</td>\n",
       "      <td>0</td>\n",
       "    </tr>\n",
       "    <tr>\n",
       "      <th>8</th>\n",
       "      <td>0001e1e04d7d</td>\n",
       "      <td>2015-10-24</td>\n",
       "      <td>19</td>\n",
       "      <td>1.0</td>\n",
       "      <td>0</td>\n",
       "      <td>0.0</td>\n",
       "      <td>0.000</td>\n",
       "      <td>25.22250</td>\n",
       "      <td>144833498</td>\n",
       "      <td>45358</td>\n",
       "      <td>1619</td>\n",
       "      <td>29463</td>\n",
       "      <td>4356</td>\n",
       "      <td>1</td>\n",
       "    </tr>\n",
       "    <tr>\n",
       "      <th>9</th>\n",
       "      <td>0001e1e04d7d</td>\n",
       "      <td>2016-03-24</td>\n",
       "      <td>19</td>\n",
       "      <td>2.0</td>\n",
       "      <td>0</td>\n",
       "      <td>0.0</td>\n",
       "      <td>0.000</td>\n",
       "      <td>9.29250</td>\n",
       "      <td>95953498</td>\n",
       "      <td>45358</td>\n",
       "      <td>1619</td>\n",
       "      <td>29463</td>\n",
       "      <td>4324</td>\n",
       "      <td>1</td>\n",
       "    </tr>\n",
       "  </tbody>\n",
       "</table>\n",
       "</div>"
      ],
      "text/plain": [
       "    customer_id  order_date  order_hour  customer_order_rank  is_failed  \\\n",
       "0  000097eabfd9  2015-06-20          19                  1.0          0   \n",
       "1  0000e2c6d9be  2016-01-29          20                  1.0          0   \n",
       "2  000133bb597f  2017-02-26          19                  1.0          0   \n",
       "3  00018269939b  2017-02-05          17                  1.0          0   \n",
       "4  0001a00468a6  2015-08-04          19                  1.0          0   \n",
       "5  0001d9036b5e  2015-08-29          19                  1.0          0   \n",
       "6  0001d9036b5e  2017-01-04          17                  2.0          0   \n",
       "7  0001d9036b5e  2017-01-28          16                  3.0          0   \n",
       "8  0001e1e04d7d  2015-10-24          19                  1.0          0   \n",
       "9  0001e1e04d7d  2016-03-24          19                  2.0          0   \n",
       "\n",
       "   voucher_amount  delivery_fee  amount_paid  restaurant_id  city_id  \\\n",
       "0             0.0         0.000     11.46960        5803498    20326   \n",
       "1             0.0         0.000      9.55800      239303498    76547   \n",
       "2             0.0         0.493      5.93658      206463498    33833   \n",
       "3             0.0         0.493      9.82350       36613498    99315   \n",
       "4             0.0         0.493      5.15070      225853498    16456   \n",
       "5             0.0         0.000     11.94750      193643498    88276   \n",
       "6             0.0         0.000     11.15100      193643498    88276   \n",
       "7             0.0         0.000      9.71730      193643498    88276   \n",
       "8             0.0         0.000     25.22250      144833498    45358   \n",
       "9             0.0         0.000      9.29250       95953498    45358   \n",
       "\n",
       "   payment_id  platform_id  transmission_id  is_returning_customer  \n",
       "0        1779        30231             4356                      0  \n",
       "1        1619        30359             4356                      0  \n",
       "2        1619        30359             4324                      1  \n",
       "3        1619        30359             4356                      0  \n",
       "4        1619        29463             4356                      0  \n",
       "5        1619        29463             4356                      0  \n",
       "6        1619        29463             4356                      0  \n",
       "7        1619        30359             4356                      0  \n",
       "8        1619        29463             4356                      1  \n",
       "9        1619        29463             4324                      1  "
      ]
     },
     "execution_count": 33,
     "metadata": {},
     "output_type": "execute_result"
    }
   ],
   "source": [
    "order_data_labeled.head(10)"
   ]
  },
  {
   "cell_type": "code",
   "execution_count": 34,
   "metadata": {},
   "outputs": [
    {
     "data": {
      "text/plain": [
       "customer_id                  0\n",
       "order_date                   0\n",
       "order_hour                   0\n",
       "customer_order_rank      24767\n",
       "is_failed                    0\n",
       "voucher_amount               0\n",
       "delivery_fee                 0\n",
       "amount_paid                  0\n",
       "restaurant_id                0\n",
       "city_id                      0\n",
       "payment_id                   0\n",
       "platform_id                  0\n",
       "transmission_id              0\n",
       "is_returning_customer        0\n",
       "dtype: int64"
      ]
     },
     "execution_count": 34,
     "metadata": {},
     "output_type": "execute_result"
    }
   ],
   "source": [
    "order_data_labeled.isna().sum()"
   ]
  },
  {
   "cell_type": "code",
   "execution_count": 35,
   "metadata": {},
   "outputs": [],
   "source": [
    "order_data_labeled.fillna(value=0, inplace=True)"
   ]
  },
  {
   "cell_type": "code",
   "execution_count": null,
   "metadata": {},
   "outputs": [],
   "source": []
  },
  {
   "cell_type": "code",
   "execution_count": 36,
   "metadata": {},
   "outputs": [
    {
     "data": {
      "text/plain": [
       "customer_id              0\n",
       "order_date               0\n",
       "order_hour               0\n",
       "customer_order_rank      0\n",
       "is_failed                0\n",
       "voucher_amount           0\n",
       "delivery_fee             0\n",
       "amount_paid              0\n",
       "restaurant_id            0\n",
       "city_id                  0\n",
       "payment_id               0\n",
       "platform_id              0\n",
       "transmission_id          0\n",
       "is_returning_customer    0\n",
       "dtype: int64"
      ]
     },
     "execution_count": 36,
     "metadata": {},
     "output_type": "execute_result"
    }
   ],
   "source": [
    "order_data_labeled.isna().sum()"
   ]
  },
  {
   "cell_type": "code",
   "execution_count": null,
   "metadata": {},
   "outputs": [],
   "source": []
  },
  {
   "cell_type": "code",
   "execution_count": 46,
   "metadata": {},
   "outputs": [
    {
     "data": {
      "text/plain": [
       "<seaborn.axisgrid.FacetGrid at 0x7fa40a54aad0>"
      ]
     },
     "execution_count": 46,
     "metadata": {},
     "output_type": "execute_result"
    },
    {
     "data": {
      "image/png": "[encoded data removed]",
      "text/plain": [
       "<Figure size 360x360 with 1 Axes>"
      ]
     },
     "metadata": {
      "needs_background": "light"
     },
     "output_type": "display_data"
    }
   ],
   "source": [
    "sns.catplot(data=order_data_labeled, kind=\"count\", x=\"is_returning_customer\")"
   ]
  },
  {
   "cell_type": "code",
   "execution_count": null,
   "metadata": {},
   "outputs": [],
   "source": []
  }
 ],
 "metadata": {
  "kernelspec": {
   "display_name": "Python 3",
   "language": "python",
   "name": "python3"
  },
  "language_info": {
   "codemirror_mode": {
    "name": "ipython",
    "version": 3
   },
   "file_extension": ".py",
   "mimetype": "text/x-python",
   "name": "python",
   "nbconvert_exporter": "python",
   "pygments_lexer": "ipython3",
   "version": "3.7.9"
  }
 },
 "nbformat": 4,
 "nbformat_minor": 4
}
